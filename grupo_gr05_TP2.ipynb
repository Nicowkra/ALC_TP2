{
 "cells": [
  {
   "cell_type": "markdown",
   "id": "5c0cbb93-2880-4750-975d-11cce9f6b12c",
   "metadata": {},
   "source": [
    "# Trabajo Práctico 2 - Matrices Insumo-Producto\n"
   ]
  },
  {
   "cell_type": "markdown",
   "id": "42e274a5-6e2e-44fd-93bc-3425096cda3a",
   "metadata": {},
   "source": [
    "## Imports"
   ]
  },
  {
   "cell_type": "code",
   "execution_count": 15,
   "id": "bf901cec-77d4-4642-8732-e84bece85e68",
   "metadata": {},
   "outputs": [],
   "source": [
    "import numpy as np\n",
    "import pandas as pd\n",
    "from numpy import linalg as LA"
   ]
  },
  {
   "cell_type": "markdown",
   "id": "ffe006c4-bd7b-4465-ba1e-8c9f994b9f37",
   "metadata": {},
   "source": [
    "## Consigna 3"
   ]
  },
  {
   "cell_type": "code",
   "execution_count": 27,
   "id": "9e4ffc63-5a06-4c36-8c56-25ad67cb8aa2",
   "metadata": {},
   "outputs": [
    {
     "data": {
      "text/html": [
       "<div>\n",
       "<style scoped>\n",
       "    .dataframe tbody tr th:only-of-type {\n",
       "        vertical-align: middle;\n",
       "    }\n",
       "\n",
       "    .dataframe tbody tr th {\n",
       "        vertical-align: top;\n",
       "    }\n",
       "\n",
       "    .dataframe thead th {\n",
       "        text-align: right;\n",
       "    }\n",
       "</style>\n",
       "<table border=\"1\" class=\"dataframe\">\n",
       "  <thead>\n",
       "    <tr style=\"text-align: right;\">\n",
       "      <th></th>\n",
       "      <th>Promedio</th>\n",
       "      <th>Desvio Estandar</th>\n",
       "    </tr>\n",
       "  </thead>\n",
       "  <tbody>\n",
       "    <tr>\n",
       "      <th>A1</th>\n",
       "      <td>1.000000</td>\n",
       "      <td>2.087692e-16</td>\n",
       "    </tr>\n",
       "    <tr>\n",
       "      <th>A2</th>\n",
       "      <td>0.927651</td>\n",
       "      <td>2.194762e-16</td>\n",
       "    </tr>\n",
       "  </tbody>\n",
       "</table>\n",
       "</div>"
      ],
      "text/plain": [
       "    Promedio  Desvio Estandar\n",
       "A1  1.000000     2.087692e-16\n",
       "A2  0.927651     2.194762e-16"
      ]
     },
     "execution_count": 27,
     "metadata": {},
     "output_type": "execute_result"
    }
   ],
   "source": [
    "A1 = np.array([[0.186,0.521,0.014,0.32,0.134],[0.24,0.073,0.219,0.013,0.327],[0.098,0.12,0.311,0.302,0.208],[0.173,0.03,0.133,0.14,0.074],[0.303,0.256,0.323,0.225,0.257]])\n",
    "A2 = np.array([[0.186,0.521,0.014,0.32,0.134],[0.24,0.073,0.219,0.013,0.327],[0.098,0.12,0.311,0.302,0.208],[0.173,0.03,0.133,0.14,0.074],[0.003,0.256,0.323,0.225,0.257]])\n",
    "\n",
    "\n",
    "def vectorEstrella(vector):\n",
    "    # Conjugar y trasponer al mismo tiempo\n",
    "    vector_hermitiano = np.conjugate(vector.T)\n",
    "    return vector_hermitiano\n",
    "\n",
    "\n",
    "def metodoPotencia(A, v, k):\n",
    "\n",
    "    # Calculamos autovector asociado al autovalor de mayor modulo\n",
    "    for i in range(k):\n",
    "        v = A @ v\n",
    "        # Lo normalizamos para que no siga creciendo y converja\n",
    "        v = v / np.linalg.norm(v)\n",
    "\n",
    "    # Calculamos autovalor de mayor modulo\n",
    "    vEstrella = vectorEstrella(v)\n",
    "    aval = (vEstrella @ A @ v) / (vEstrella @ v)\n",
    "\n",
    "    return aval,v\n",
    "\n",
    "def monteCarlo(A):\n",
    "    vectores = []\n",
    "    DE = 0\n",
    "    for i in range(0,250,1):\n",
    "        vect = np.random.randint(0,1000,size = A.shape[0])\n",
    "        res,avect = metodoPotencia(A,vect,250)\n",
    "        vectores.append(res)\n",
    "    promedio = np.mean(vectores)\n",
    "    \n",
    "    for j in vectores:\n",
    "        a = np.sqrt((j-np.mean(vectores))**2)\n",
    "        DE = DE + (pow(a,2))\n",
    "    desvioEstandar = np.sqrt(DE/len(vectores))\n",
    "    return promedio, desvioEstandar\n",
    "\n",
    "\n",
    "prom_a1 ,DE_a1 = monteCarlo(A1) \n",
    "prom_a2 ,DE_a2 = monteCarlo(A2) \n",
    "tabla = pd.DataFrame({\"Promedio\":[prom_a1,prom_a2],\"Desvio Estandar\":[DE_a1,DE_a2]})\n",
    "tabla.index = [\"A1\",\"A2\"]\n",
    "tabla"
   ]
  },
  {
   "cell_type": "markdown",
   "id": "accc0aa1-ed10-4c3d-9a3b-ab276f54ef11",
   "metadata": {},
   "source": [
    "## Consigna 5"
   ]
  },
  {
   "cell_type": "markdown",
   "id": "6747399d-97bf-4a06-a9e2-c9ec39909177",
   "metadata": {},
   "source": [
    "Creo $ A^{ss} y A^{rr} $ como en el TP1"
   ]
  },
  {
   "cell_type": "code",
   "execution_count": 29,
   "id": "b251ee5a-bf9f-400c-8f25-814e92df5c31",
   "metadata": {},
   "outputs": [
    {
     "data": {
      "text/html": [
       "<div>\n",
       "<style scoped>\n",
       "    .dataframe tbody tr th:only-of-type {\n",
       "        vertical-align: middle;\n",
       "    }\n",
       "\n",
       "    .dataframe tbody tr th {\n",
       "        vertical-align: top;\n",
       "    }\n",
       "\n",
       "    .dataframe thead th {\n",
       "        text-align: right;\n",
       "    }\n",
       "</style>\n",
       "<table border=\"1\" class=\"dataframe\">\n",
       "  <thead>\n",
       "    <tr style=\"text-align: right;\">\n",
       "      <th></th>\n",
       "      <th>Pry</th>\n",
       "      <th>Nic</th>\n",
       "    </tr>\n",
       "  </thead>\n",
       "  <tbody>\n",
       "    <tr>\n",
       "      <th>Autovalor</th>\n",
       "      <td>1671.915673</td>\n",
       "      <td>441.458846</td>\n",
       "    </tr>\n",
       "  </tbody>\n",
       "</table>\n",
       "</div>"
      ],
      "text/plain": [
       "                   Pry         Nic\n",
       "Autovalor  1671.915673  441.458846"
      ]
     },
     "execution_count": 29,
     "metadata": {},
     "output_type": "execute_result"
    }
   ],
   "source": [
    "matriz = pd.read_excel(\"matriz.xlsx\", sheet_name =\"LAC_IOT_2011\",)\n",
    "Nic_col = []    \n",
    "Pry_col = []\n",
    "for i in range(1,41): #Crea la lista de columnas a filtrar\n",
    "    Nic_col.append('NICs'+str(i))\n",
    "    Pry_col.append('PRYs'+str(i))\n",
    "    \n",
    "Pry = matriz[matriz[\"Country_iso3\"] == \"PRY\"] # Crea la tabla con filas de PRY\n",
    "Nic = matriz[matriz[\"Country_iso3\"] == \"NIC\"] # Crea la tabla con filas de NIC\n",
    "# Crea matrices intra-regionales\n",
    "Pry_int= Pry.loc[:,Pry_col] \n",
    "Nic_int = Nic.loc[:,Nic_col] \n",
    "\n",
    "vect_Pry = np.random.randint(0,1000,size = Pry_int.shape[0]) #Creo vector aleatorio\n",
    "aval_Pry,avect_Pry = metodoPotencia(Pry_int.to_numpy(),vect_Pry,250) #Uso metodo de potencia\n",
    "\n",
    "vect_Nic = np.random.randint(0,1000,size = Nic_int.shape[0])\n",
    "aval_Nic,avect_Nic = metodoPotencia(Nic_int.to_numpy(),vect_Nic,250)\n",
    "\n",
    "tabla = pd.DataFrame({\"Pry\":[aval_Pry],\"Nic\":[aval_Nic]})\n",
    "tabla.index = [\"Autovalor\"]\n",
    "tabla"
   ]
  },
  {
   "cell_type": "markdown",
   "id": "cb38a87a-0bf5-4070-81dc-139fba2cb660",
   "metadata": {},
   "source": [
    "## Consigna 7"
   ]
  },
  {
   "cell_type": "code",
   "execution_count": 34,
   "id": "dc3795eb-4bd7-419e-8ca0-ab2b76911d8c",
   "metadata": {},
   "outputs": [],
   "source": [
    "n = Pry_int.shape[0]\n",
    "Id = np.identity(n)\n",
    "e = np.ones(n)\n",
    "En = Id - 1/n * (np.atleast_2d(e).T @ np.atleast_2d(e))\n",
    "C = ((En @ Pry_int.to_numpy()).T @ (En @ Pry_int.to_numpy()))/(40-1) "
   ]
  },
  {
   "cell_type": "markdown",
   "id": "41f9ed73-2fd8-4260-9960-7a7e46b2ffc0",
   "metadata": {},
   "source": [
    "## Consigna 8"
   ]
  },
  {
   "cell_type": "code",
   "execution_count": null,
   "id": "a45ac85d-64e4-4b40-8d7a-824e16fbb2f5",
   "metadata": {},
   "outputs": [],
   "source": []
  }
 ],
 "metadata": {
  "kernelspec": {
   "display_name": "Python 3 (ipykernel)",
   "language": "python",
   "name": "python3"
  },
  "language_info": {
   "codemirror_mode": {
    "name": "ipython",
    "version": 3
   },
   "file_extension": ".py",
   "mimetype": "text/x-python",
   "name": "python",
   "nbconvert_exporter": "python",
   "pygments_lexer": "ipython3",
   "version": "3.12.4"
  }
 },
 "nbformat": 4,
 "nbformat_minor": 5
}
