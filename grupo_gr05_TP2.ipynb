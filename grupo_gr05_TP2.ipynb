{
 "cells": [
  {
   "cell_type": "markdown",
   "id": "5c0cbb93-2880-4750-975d-11cce9f6b12c",
   "metadata": {},
   "source": [
    "# Trabajo Práctico 2 - Matrices Insumo-Producto\n"
   ]
  },
  {
   "cell_type": "markdown",
   "id": "42e274a5-6e2e-44fd-93bc-3425096cda3a",
   "metadata": {},
   "source": [
    "## Imports"
   ]
  },
  {
   "cell_type": "code",
   "execution_count": 67,
   "id": "bf901cec-77d4-4642-8732-e84bece85e68",
   "metadata": {},
   "outputs": [],
   "source": [
    "import numpy as np\n",
    "import pandas as pd\n",
    "from numpy import linalg as LA\n",
    "import scipy.linalg as sc\n",
    "import matplotlib.pyplot as plt\n",
    "import seaborn as sns\n",
    "from sklearn.cluster import KMeans\n",
    "from IPython.display import display, HTML"
   ]
  },
  {
   "cell_type": "markdown",
   "id": "881e9b90",
   "metadata": {},
   "source": [
    "## Consigna 2 - Graficamos los vectores $a_1$ y $a_2$, definidos con un tamaño de 250"
   ]
  },
  {
   "cell_type": "code",
   "execution_count": 5,
   "id": "b824479e",
   "metadata": {},
   "outputs": [],
   "source": [
    "A1 = np.array([[0.186,0.521,0.014,0.32,0.134],\n",
    "               [0.24,0.073,0.219,0.013,0.327],\n",
    "               [0.098,0.12,0.311,0.302,0.208],\n",
    "               [0.173,0.03,0.133,0.14,0.074],\n",
    "               [0.303,0.256,0.323,0.225,0.257]])\n",
    "A2 = np.array([[0.186,0.521,0.014,0.32,0.134],\n",
    "               [0.24,0.073,0.219,0.013,0.327],\n",
    "               [0.098,0.12,0.311,0.302,0.208],\n",
    "               [0.173,0.03,0.133,0.14,0.074],\n",
    "               [0.003,0.256,0.323,0.225,0.257]])\n",
    "\n",
    "##Vamos a calcular el vector que tiene en cada componente la norma 2 de A elevado al indice i\n",
    "def vectorDeA_n(n, matrizOriginal):\n",
    "    res = []\n",
    "    potenciaDeA = matrizOriginal\n",
    "    for i in range(n):\n",
    "        potenciaDeA = potenciaDeA @ matrizOriginal \n",
    "        norma = scipy.linalg.norm(potenciaDeA, ord = 2)\n",
    "        res.append(norma)\n",
    "    return res\n",
    "\n",
    "def graficarVector(matriz, tamanio):\n",
    "\n",
    "    fig, ax = plt.subplots(figsize=(10, 6))\n",
    "    ax.scatter(np.linspace(0,tamanio-1,tamanio), vectorDeA_n(tamanio, matriz), s=10, color='aquamarine', edgecolor='k', alpha=0.7)\n",
    "\n",
    "    # Personalización del gráfico\n",
    "    ax.set_title(\"Norma 2 de A1 a Potencias Sucesivas\", fontsize=14, fontweight='bold')\n",
    "    ax.set_xlabel(\"Índice de la potencia\", fontsize=12)\n",
    "    ax.set_ylabel(\"Valor de la Norma 2\", fontsize=12)\n",
    "    ax.grid(True, linestyle='--', alpha=0.6)\n",
    "    ax.spines['top'].set_visible(False)\n",
    "    ax.spines['right'].set_visible(False)\n",
    "\n",
    "    # Guardar el gráfico\n",
    "    plt.savefig('diagrama-dispersion-A1.png', dpi=300, bbox_inches='tight')\n",
    "    plt.show()"
   ]
  },
  {
   "cell_type": "code",
   "execution_count": 6,
   "id": "f26adbfe",
   "metadata": {},
   "outputs": [
    {
     "ename": "NameError",
     "evalue": "name 'scipy' is not defined",
     "output_type": "error",
     "traceback": [
      "\u001b[1;31m---------------------------------------------------------------------------\u001b[0m",
      "\u001b[1;31mNameError\u001b[0m                                 Traceback (most recent call last)",
      "Cell \u001b[1;32mIn[6], line 1\u001b[0m\n\u001b[1;32m----> 1\u001b[0m \u001b[43mgraficarVector\u001b[49m\u001b[43m(\u001b[49m\u001b[43mA1\u001b[49m\u001b[43m,\u001b[49m\u001b[43m \u001b[49m\u001b[38;5;241;43m250\u001b[39;49m\u001b[43m)\u001b[49m\n",
      "Cell \u001b[1;32mIn[5], line 25\u001b[0m, in \u001b[0;36mgraficarVector\u001b[1;34m(matriz, tamanio)\u001b[0m\n\u001b[0;32m     22\u001b[0m \u001b[38;5;28;01mdef\u001b[39;00m \u001b[38;5;21mgraficarVector\u001b[39m(matriz, tamanio):\n\u001b[0;32m     24\u001b[0m     fig, ax \u001b[38;5;241m=\u001b[39m plt\u001b[38;5;241m.\u001b[39msubplots(figsize\u001b[38;5;241m=\u001b[39m(\u001b[38;5;241m10\u001b[39m, \u001b[38;5;241m6\u001b[39m))\n\u001b[1;32m---> 25\u001b[0m     ax\u001b[38;5;241m.\u001b[39mscatter(np\u001b[38;5;241m.\u001b[39mlinspace(\u001b[38;5;241m0\u001b[39m,tamanio\u001b[38;5;241m-\u001b[39m\u001b[38;5;241m1\u001b[39m,tamanio), \u001b[43mvectorDeA_n\u001b[49m\u001b[43m(\u001b[49m\u001b[43mtamanio\u001b[49m\u001b[43m,\u001b[49m\u001b[43m \u001b[49m\u001b[43mmatriz\u001b[49m\u001b[43m)\u001b[49m, s\u001b[38;5;241m=\u001b[39m\u001b[38;5;241m10\u001b[39m, color\u001b[38;5;241m=\u001b[39m\u001b[38;5;124m'\u001b[39m\u001b[38;5;124maquamarine\u001b[39m\u001b[38;5;124m'\u001b[39m, edgecolor\u001b[38;5;241m=\u001b[39m\u001b[38;5;124m'\u001b[39m\u001b[38;5;124mk\u001b[39m\u001b[38;5;124m'\u001b[39m, alpha\u001b[38;5;241m=\u001b[39m\u001b[38;5;241m0.7\u001b[39m)\n\u001b[0;32m     27\u001b[0m     \u001b[38;5;66;03m# Personalización del gráfico\u001b[39;00m\n\u001b[0;32m     28\u001b[0m     ax\u001b[38;5;241m.\u001b[39mset_title(\u001b[38;5;124m\"\u001b[39m\u001b[38;5;124mNorma 2 de A1 a Potencias Sucesivas\u001b[39m\u001b[38;5;124m\"\u001b[39m, fontsize\u001b[38;5;241m=\u001b[39m\u001b[38;5;241m14\u001b[39m, fontweight\u001b[38;5;241m=\u001b[39m\u001b[38;5;124m'\u001b[39m\u001b[38;5;124mbold\u001b[39m\u001b[38;5;124m'\u001b[39m)\n",
      "Cell \u001b[1;32mIn[5], line 18\u001b[0m, in \u001b[0;36mvectorDeA_n\u001b[1;34m(n, matrizOriginal)\u001b[0m\n\u001b[0;32m     16\u001b[0m \u001b[38;5;28;01mfor\u001b[39;00m i \u001b[38;5;129;01min\u001b[39;00m \u001b[38;5;28mrange\u001b[39m(n):\n\u001b[0;32m     17\u001b[0m     potenciaDeA \u001b[38;5;241m=\u001b[39m potenciaDeA \u001b[38;5;241m@\u001b[39m matrizOriginal \n\u001b[1;32m---> 18\u001b[0m     norma \u001b[38;5;241m=\u001b[39m \u001b[43mscipy\u001b[49m\u001b[38;5;241m.\u001b[39mlinalg\u001b[38;5;241m.\u001b[39mnorm(potenciaDeA, \u001b[38;5;28mord\u001b[39m \u001b[38;5;241m=\u001b[39m \u001b[38;5;241m2\u001b[39m)\n\u001b[0;32m     19\u001b[0m     res\u001b[38;5;241m.\u001b[39mappend(norma)\n\u001b[0;32m     20\u001b[0m \u001b[38;5;28;01mreturn\u001b[39;00m res\n",
      "\u001b[1;31mNameError\u001b[0m: name 'scipy' is not defined"
     ]
    },
    {
     "data": {
      "image/png": "[encoded data removed]",
      "text/plain": [
       "<Figure size 1000x600 with 1 Axes>"
      ]
     },
     "metadata": {},
     "output_type": "display_data"
    }
   ],
   "source": [
    "graficarVector(A1, 250)"
   ]
  },
  {
   "cell_type": "markdown",
   "id": "60088b30",
   "metadata": {},
   "source": []
  },
  {
   "cell_type": "code",
   "execution_count": null,
   "id": "0941e472",
   "metadata": {},
   "outputs": [],
   "source": [
    "graficarVector(A2, 250)"
   ]
  },
  {
   "cell_type": "markdown",
   "id": "ffe006c4-bd7b-4465-ba1e-8c9f994b9f37",
   "metadata": {},
   "source": [
    "## Consigna 3"
   ]
  },
  {
   "cell_type": "markdown",
   "id": "70d27afa",
   "metadata": {},
   "source": [
    "Para calcular el mayor autovalor de las matrices, se implemento el metodo de la potencia, inicializado con 250 vectores $x_0$ calculados a partir del metodo Monte Carlo"
   ]
  },
  {
   "cell_type": "code",
   "execution_count": 26,
   "id": "9e4ffc63-5a06-4c36-8c56-25ad67cb8aa2",
   "metadata": {},
   "outputs": [
    {
     "data": {
      "text/html": [
       "<div>\n",
       "<style scoped>\n",
       "    .dataframe tbody tr th:only-of-type {\n",
       "        vertical-align: middle;\n",
       "    }\n",
       "\n",
       "    .dataframe tbody tr th {\n",
       "        vertical-align: top;\n",
       "    }\n",
       "\n",
       "    .dataframe thead th {\n",
       "        text-align: right;\n",
       "    }\n",
       "</style>\n",
       "<table border=\"1\" class=\"dataframe\">\n",
       "  <thead>\n",
       "    <tr style=\"text-align: right;\">\n",
       "      <th></th>\n",
       "      <th>Promedio</th>\n",
       "      <th>Desvio Estandar</th>\n",
       "    </tr>\n",
       "  </thead>\n",
       "  <tbody>\n",
       "    <tr>\n",
       "      <th>A1</th>\n",
       "      <td>1.000001</td>\n",
       "      <td>0.000001</td>\n",
       "    </tr>\n",
       "    <tr>\n",
       "      <th>A2</th>\n",
       "      <td>0.927665</td>\n",
       "      <td>0.000033</td>\n",
       "    </tr>\n",
       "  </tbody>\n",
       "</table>\n",
       "</div>"
      ],
      "text/plain": [
       "    Promedio  Desvio Estandar\n",
       "A1  1.000001         0.000001\n",
       "A2  0.927665         0.000033"
      ]
     },
     "execution_count": 26,
     "metadata": {},
     "output_type": "execute_result"
    }
   ],
   "source": [
    "A1 = np.array([[0.186,0.521,0.014,0.32,0.134],[0.24,0.073,0.219,0.013,0.327],[0.098,0.12,0.311,0.302,0.208],[0.173,0.03,0.133,0.14,0.074],[0.303,0.256,0.323,0.225,0.257]])\n",
    "A2 = np.array([[0.186,0.521,0.014,0.32,0.134],[0.24,0.073,0.219,0.013,0.327],[0.098,0.12,0.311,0.302,0.208],[0.173,0.03,0.133,0.14,0.074],[0.003,0.256,0.323,0.225,0.257]])\n",
    "\n",
    "\n",
    "def vectorEstrella(vector):\n",
    "    # Conjugar y trasponer al mismo tiempo\n",
    "    vector_hermitiano = np.conjugate(vector.T)\n",
    "    return vector_hermitiano\n",
    "\n",
    "\n",
    "def metodoPotencia(A, v, k):\n",
    "\n",
    "    # Calculamos autovector asociado al autovalor de mayor modulo\n",
    "    for i in range(k):\n",
    "        v = A @ v\n",
    "        # Lo normalizamos para que no siga creciendo y converja\n",
    "        v = v / np.linalg.norm(v)\n",
    "\n",
    "    # Calculamos autovalor de mayor modulo\n",
    "    vEstrella = vectorEstrella(v)\n",
    "    aval = (vEstrella @ A @ v) / (vEstrella @ v)\n",
    "\n",
    "    return aval,v\n",
    "\n",
    "def monteCarlo(A):\n",
    "    vectores = []\n",
    "    DE = 0\n",
    "    for i in range(0,250,1):\n",
    "        vect = np.random.randint(0,1000,size = A.shape[0])\n",
    "        res,avect = metodoPotencia(A,vect,8)\n",
    "        vectores.append(res)\n",
    "    promedio = np.mean(vectores)\n",
    "    \n",
    "    for j in vectores:\n",
    "        a = np.sqrt((j-np.mean(vectores))**2)\n",
    "        DE = DE + (pow(a,2))\n",
    "    desvioEstandar = np.sqrt(DE/len(vectores))\n",
    "    return promedio, desvioEstandar\n",
    "\n",
    "\n",
    "prom_a1 ,DE_a1 = monteCarlo(A1) \n",
    "prom_a2 ,DE_a2 = monteCarlo(A2) \n",
    "tabla = pd.DataFrame({\"Promedio\":[prom_a1,prom_a2],\"Desvio Estandar\":[DE_a1,DE_a2]})\n",
    "tabla.index = [\"A1\",\"A2\"]\n",
    "tabla"
   ]
  },
  {
   "cell_type": "markdown",
   "id": "fbb6bbaa",
   "metadata": {},
   "source": [
    "Se ejecuto el metodo de la potencia 8 veces y se vio que los valores tienen un desvio pequeño en relacion al promedio, de e-5 y e-4 para las matrices A1 y A2 respectivamente. Se puede concluir que el autovalor hayado para la matriz A1 es el 1, y para la matriz A2 el 0.927"
   ]
  },
  {
   "cell_type": "markdown",
   "id": "87468230",
   "metadata": {},
   "source": []
  },
  {
   "cell_type": "markdown",
   "id": "c1791f2e",
   "metadata": {},
   "source": [
    "## Consigna 4 "
   ]
  },
  {
   "cell_type": "code",
   "execution_count": null,
   "id": "26024428",
   "metadata": {},
   "outputs": [],
   "source": [
    "matrizConsigna4 = np.linalg.inv(np.identity(A1.shape[0]) - A1)\n",
    "\n",
    "graficarVector(matrizConsigna4, 10)\n",
    "vectorDeA_n(10, matrizConsigna4)\n",
    "\n",
    "##ESTA MAAAL"
   ]
  },
  {
   "cell_type": "markdown",
   "id": "accc0aa1-ed10-4c3d-9a3b-ab276f54ef11",
   "metadata": {},
   "source": [
    "## Consigna 5"
   ]
  },
  {
   "cell_type": "markdown",
   "id": "6747399d-97bf-4a06-a9e2-c9ec39909177",
   "metadata": {},
   "source": [
    "- Creo $ A^{pp} y A^{nn} $ como en el TP1"
   ]
  },
  {
   "cell_type": "code",
   "execution_count": 109,
   "id": "b251ee5a-bf9f-400c-8f25-814e92df5c31",
   "metadata": {},
   "outputs": [],
   "source": [
    "matriz = pd.read_excel(\"matriz.xlsx\", sheet_name =\"LAC_IOT_2011\",)\n",
    "Nic_col = []    \n",
    "Pry_col = []\n",
    "for i in range(1,41): #Crea la lista de columnas a filtrar\n",
    "    Nic_col.append('NICs'+str(i))\n",
    "    Pry_col.append('PRYs'+str(i))\n",
    "    \n",
    "Pry = matriz[matriz[\"Country_iso3\"] == \"PRY\"] # Crea la tabla con filas de PRY\n",
    "Nic = matriz[matriz[\"Country_iso3\"] == \"NIC\"] # Crea la tabla con filas de NIC\n",
    "# Crea matrices intra-regionales\n",
    "Pry_int= Pry.loc[:,Pry_col] \n",
    "Nic_int = Nic.loc[:,Nic_col]"
   ]
  },
  {
   "cell_type": "markdown",
   "id": "69ac4ac7-03ec-4b6c-8caa-8b58512a49a2",
   "metadata": {},
   "source": [
    "- uso la funcion de metodo de la potencia con un vector aleatorio y lo comparo con los autovalores dados por __numpy.linalg.eig__"
   ]
  },
  {
   "cell_type": "code",
   "execution_count": 116,
   "id": "a15bd577-607e-49e6-bb6b-44a24eab058e",
   "metadata": {},
   "outputs": [
    {
     "data": {
      "text/html": [
       "<div>\n",
       "<style scoped>\n",
       "    .dataframe tbody tr th:only-of-type {\n",
       "        vertical-align: middle;\n",
       "    }\n",
       "\n",
       "    .dataframe tbody tr th {\n",
       "        vertical-align: top;\n",
       "    }\n",
       "\n",
       "    .dataframe thead th {\n",
       "        text-align: right;\n",
       "    }\n",
       "</style>\n",
       "<table border=\"1\" class=\"dataframe\">\n",
       "  <thead>\n",
       "    <tr style=\"text-align: right;\">\n",
       "      <th></th>\n",
       "      <th>Aproximado</th>\n",
       "      <th>Real</th>\n",
       "    </tr>\n",
       "  </thead>\n",
       "  <tbody>\n",
       "    <tr>\n",
       "      <th>Pry</th>\n",
       "      <td>1671.915673</td>\n",
       "      <td>1671.915673+   0.000000j</td>\n",
       "    </tr>\n",
       "    <tr>\n",
       "      <th>Nic</th>\n",
       "      <td>441.458846</td>\n",
       "      <td>441.458846+   0.000000j</td>\n",
       "    </tr>\n",
       "  </tbody>\n",
       "</table>\n",
       "</div>"
      ],
      "text/plain": [
       "      Aproximado                      Real\n",
       "Pry  1671.915673  1671.915673+   0.000000j\n",
       "Nic   441.458846   441.458846+   0.000000j"
      ]
     },
     "execution_count": 116,
     "metadata": {},
     "output_type": "execute_result"
    }
   ],
   "source": [
    "vect_Pry = np.random.randint(0,1000,size = Pry_int.shape[0]) #Creo vector aleatorio\n",
    "aval_Pry,avect_Pry = metodoPotencia(Pry_int.to_numpy(),vect_Pry,250) #Uso metodo de la potencia\n",
    "eigval_Pry,eigvect_Pry = LA.eig(Pry_int.to_numpy())\n",
    "\n",
    "vect_Nic = np.random.randint(0,1000,size = Nic_int.shape[0])\n",
    "aval_Nic,avect_Nic = metodoPotencia(Nic_int.to_numpy(),vect_Nic,250)\n",
    "eigval_Nic,eigvect_Nic = LA.eig(Nic_int.to_numpy())\n",
    "\n",
    "tabla = pd.DataFrame({\"Aproximado\":[aval_Pry,aval_Nic],\"Real\":[eigval_Pry[0],eigval_Nic[0]]})\n",
    "tabla.index = [\"Pry\",\"Nic\"]\n",
    "tabla"
   ]
  },
  {
   "cell_type": "markdown",
   "id": "d2f64034",
   "metadata": {},
   "source": [
    "## Consigna 6"
   ]
  },
  {
   "cell_type": "code",
   "execution_count": null,
   "id": "4d27e042",
   "metadata": {},
   "outputs": [],
   "source": []
  },
  {
   "cell_type": "markdown",
   "id": "cb38a87a-0bf5-4070-81dc-139fba2cb660",
   "metadata": {},
   "source": [
    "## Consigna 7"
   ]
  },
  {
   "cell_type": "markdown",
   "id": "5942751a-135d-4e1b-94b2-25b75a36d73b",
   "metadata": {},
   "source": [
    "<center></h1>Creo C dada por:</center></h1>\n",
    "\n",
    "<center></h1>$C = {\\overline{A^{pp}}}^{t} \\, \\overline{A^{pp}}/(40-1)$</center></h1>\n",
    "\n",
    "<center></h1>donde  $\\; \\overline{A^{pp}} = E_{40}A^{pp}$, y $E_{n}$ es dada por: $E_{n} = I_{n} - \\frac{1}{n}ee^{t}$</center></h1>\n",
    "\n",
    "<center></h1>y $e \\in \\mathbb{R}^{n}$ es un vector columna de todos 1 </center></h1>\n"
   ]
  },
  {
   "cell_type": "code",
   "execution_count": 180,
   "id": "dc3795eb-4bd7-419e-8ca0-ab2b76911d8c",
   "metadata": {},
   "outputs": [],
   "source": [
    "n = Pry_int.shape[0]\n",
    "Id = np.identity(n)\n",
    "e = np.ones(n)\n",
    "En = Id - 1/n * (np.atleast_2d(e).T @ np.atleast_2d(e))\n",
    "C = ((En @ Pry_int.to_numpy()).T @ (En @ Pry_int.to_numpy()))/(40-1) "
   ]
  },
  {
   "cell_type": "markdown",
   "id": "caccd604-2db7-4241-97bc-469efa79e7c8",
   "metadata": {},
   "source": [
    "Defino la funcion para crear un vector aleatorio de norma 1 y una funcion usando el algoritmo de Hotelling, donde se itera de la siguiente forma:\n",
    "$$\n",
    "x_{1} = Cx_{0} / \\| Cx_{0} \\|\n",
    "$$\n",
    "$$\n",
    "x_{k+1} = Cx_{k} / \\| Cx_{k} \\|\n",
    "$$\n",
    "Para encontrar el primer autovector con maximo autovalor.  \n",
    "- Para obtener el autovalor se usa el coeficiente de Rayleigh $ \\lambda = \\frac{v_{1}^{t}Cv_{1}}{v_{1}^{t}v_{1}} $  \n",
    "- Si tiene autovalor positivo, el criterio de parada va a ser cuando $\\| x_{k+1}^{t}\\ - x_{k} \\|_{2} <$ _valor_ , donde _valor_ es 1e-6.  \n",
    "- En cambio si su autovalor es negativo, se usa como criterio cuando $ |\\lambda_{k}| - |\\lambda_{k+1}|$ < _valor_ , esto se debe a que cuando el autovalor es negativo, el autovector va a oscilar entre un vector y su negativo, por lo que la norma de la diferencia siempre va a ser 2. En cambio este segundo criterio si funciona ya que el autovalor si converge.\n"
   ]
  },
  {
   "cell_type": "code",
   "execution_count": 250,
   "id": "b666c912-8e78-400a-9115-dec54d15b175",
   "metadata": {},
   "outputs": [],
   "source": [
    "def create(n):\n",
    "     x = np.random.normal(size=n)\n",
    "     x -= x.mean()\n",
    "     return x / np.linalg.norm(x)\n",
    "    \n",
    "def Hotelling(A,v,valor):\n",
    "    while True:\n",
    "        v_prev = v\n",
    "        vEstrella_prev = vectorEstrella(v_prev)\n",
    "        aval_prev = (vEstrella_prev @ A @ v_prev) / (vEstrella_prev @ v_prev)\n",
    "        \n",
    "        v = A @ v\n",
    "        v = v / np.linalg.norm(v)\n",
    "\n",
    "        vEstrella = vectorEstrella(v)\n",
    "        aval = (vEstrella @ A @ v) / (vEstrella @ v)\n",
    "        res = vEstrella - v_prev\n",
    "        \n",
    "        if (aval >=0) and (np.linalg.norm(res,2) < valor):\n",
    "            return aval,v \n",
    "            \n",
    "        elif (aval < 0) and ((abs(aval)-abs(aval_prev)) < valor):\n",
    "            return aval,v"
   ]
  },
  {
   "cell_type": "markdown",
   "id": "86304e99-ef1f-4dce-b55c-855aeeabc492",
   "metadata": {},
   "source": [
    "Saco $v_{1}$ y $\\lambda_{1}$ con la funcion Hotelling y comparo con lo dado por __numpy.linalg.eig__ "
   ]
  },
  {
   "cell_type": "code",
   "execution_count": 255,
   "id": "2b95e3ed-3e03-49f2-b6b3-a59874793d62",
   "metadata": {},
   "outputs": [
    {
     "data": {
      "text/html": [
       "<table border=\"1\" class=\"dataframe\">\n",
       "  <thead>\n",
       "    <tr style=\"text-align: right;\">\n",
       "      <th></th>\n",
       "      <th>Aproximado</th>\n",
       "      <th>Real</th>\n",
       "    </tr>\n",
       "  </thead>\n",
       "  <tbody>\n",
       "    <tr>\n",
       "      <th>Autovector</th>\n",
       "      <td>[-0.40900870476369555, -0.0003399208357932666, 4.610057720355332e-11, -0.011151523489718979, -0.378460880704275, -0.12108109824544845, -0.01366369670777413, -0.24657931945101055, -0.07203194912552974, -0.039034854368637385, -0.01137729154071566, -0.014024736836272122, -0.013210930650364315, -0.06143398982181762, -0.04470192543755348, 4.610057720355331e-11, -0.004135620253108727, -0.032899875106334395, -0.01695282329453265, -0.01913536407538575, -0.017485766638388415, -0.0037788359015559474, -0.0008681203726819965, -0.043891835809417315, -0.005206152972986648, 4.610057720355331e-11, -0.0037400392076999433, -1.2893586812173736e-05, -0.0025892530884956107, -0.0042892441726919235, 1.104800332683174e-08, -0.006111140470566463, -0.05300570442243848, -0.061193612747683326, -0.08461341378437909, -0.1635696283188207, -0.09727376953881062, -0.07425746504377644, -0.10262550132114966, -0.728450235106937]</td>\n",
       "      <td>[-0.4090087047673543, -0.00033992083580566845, 4.610057607724139e-11, -0.011151523490106561, -0.3784608806542302, -0.12108109822641883, -0.013663696706769741, -0.2465793194129284, -0.07203194911907197, -0.03903485437000004, -0.011377291540038572, -0.01402473683692753, -0.013210930650902088, -0.06143398981481452, -0.04470192543920042, 4.6100577204212415e-11, -0.004135620253280921, -0.032899875106828944, -0.016952823295275244, -0.01913536407618905, -0.01748576663920414, -0.003778835901788525, -0.0008681203727354275, -0.04389183581100244, -0.005206152973176799, 4.6100577204212415e-11, -0.003740039207835976, -1.2893586812642952e-05, -0.002589253088589786, -0.004289244172853258, 1.1048003326989693e-08, -0.0061111404707963, -0.05300570442456344, -0.06119361275190778, -0.08461341378812286, -0.16356962832535132, -0.0972737695472178, -0.07425746504873165, -0.10262550132677913, -0.7284502351429782]</td>\n",
       "    </tr>\n",
       "    <tr>\n",
       "      <th>Autovalor</th>\n",
       "      <td>85076.883207</td>\n",
       "      <td>85076.883207</td>\n",
       "    </tr>\n",
       "  </tbody>\n",
       "</table>"
      ],
      "text/plain": [
       "<IPython.core.display.HTML object>"
      ]
     },
     "metadata": {},
     "output_type": "display_data"
    }
   ],
   "source": [
    "valor = 1e-10\n",
    "vect = create(n)\n",
    "avalH, vectH = Hotelling(C,vect,valor)\n",
    "eigval, eigvect = LA.eig(C)\n",
    "tabla = pd.DataFrame({\"Aproximado\":[vectH,avalH],\"Real\":[eigvect[:,0],eigval[0]]})\n",
    "tabla.index = [\"Autovector\",\"Autovalor\"]\n",
    "display(HTML(tabla.to_html()))"
   ]
  },
  {
   "cell_type": "markdown",
   "id": "7ff29463-1927-4692-85a6-a60b9ee68624",
   "metadata": {},
   "source": [
    "Para encontrar $v_{2}$ y $\\lambda_{2}$, se necesita encontrar $C'$, dada por:\n",
    "$$\n",
    "C' = C - \\lambda_{1}v_{1}v_{1}^{t}\n",
    "$$\n",
    "Se vuelve a calcular Hotelling con $C'$ y otro vector aleatorio de norma 1 y se comparan los resultados con los dados por __numpy.linalg.eig__ "
   ]
  },
  {
   "cell_type": "code",
   "execution_count": 257,
   "id": "e7d1242f-c350-48d0-8701-c0eda150bd9b",
   "metadata": {},
   "outputs": [
    {
     "data": {
      "text/html": [
       "<table border=\"1\" class=\"dataframe\">\n",
       "  <thead>\n",
       "    <tr style=\"text-align: right;\">\n",
       "      <th></th>\n",
       "      <th>Aproximado</th>\n",
       "      <th>Real</th>\n",
       "    </tr>\n",
       "  </thead>\n",
       "  <tbody>\n",
       "    <tr>\n",
       "      <th>Autovector</th>\n",
       "      <td>[0.1542084825349543, 0.15898740709609688, 0.15899169081689293, 0.1588572394053844, 0.1539368584508138, 0.1573509860730992, 0.1588242744970319, 0.15565684180110953, 0.15805235190300237, 0.1585306364053897, 0.15884127161132372, 0.15882398952853646, 0.1588341395252515, 0.15814730818157519, 0.15846521054971102, 0.15899169081689293, 0.1589441172816805, 0.15860008643121065, 0.15879958351900988, 0.15876510880277148, 0.15875373177762248, 0.15895299812255118, 0.158982803491782, 0.15845806873848242, 0.15892753890264208, 0.15899169081689293, 0.15894567503423634, 0.15899153217964254, 0.1589598337957761, 0.15893882499266893, 0.15899169095254165, 0.15891644050785841, 0.15833315331093747, 0.1583023871556398, 0.1577208993009029, 0.1571191554203539, 0.15800468783096114, 0.15825240706921445, 0.15788614091353226, 0.15118971725871092]</td>\n",
       "      <td>[-0.15420848250579053, -0.15898740710283205, -0.1589916908236546, -0.15885723941125446, -0.15393685841129046, -0.15735098606428513, -0.15882427450230385, -0.1556568417763202, -0.1580523519017295, -0.15853063640900542, -0.15884127161691333, -0.15882398953421684, -0.15883413953097297, -0.15814730818118922, -0.15846521055289214, -0.1589916908236546, -0.15894411728811358, -0.15860008643515175, -0.15879958352442794, -0.15876510880803021, -0.15875373178310784, -0.15895299812902144, -0.1589828034984767, -0.15845806874175974, -0.15892753890899314, -0.1589916908236546, -0.15894567504070278, -0.1589915321864031, -0.15895983380233328, -0.15893882499909354, -0.15899169095930335, -0.15891644051413964, -0.15833315331358574, -0.15830238715793687, -0.15772089930175054, -0.15711915541402924, -0.15800468783083219, -0.15825240707030166, -0.15788614091232156, -0.15118971720771104]</td>\n",
       "    </tr>\n",
       "    <tr>\n",
       "      <th>Autovalor</th>\n",
       "      <td>-3384111.834275</td>\n",
       "      <td>-3384111.834275</td>\n",
       "    </tr>\n",
       "  </tbody>\n",
       "</table>"
      ],
      "text/plain": [
       "<IPython.core.display.HTML object>"
      ]
     },
     "metadata": {},
     "output_type": "display_data"
    }
   ],
   "source": [
    "vectHEstrella = vectorEstrella(vectH)\n",
    "C2 = C - avalH * (vectH @ vectHEstrella)\n",
    "vect2 = create(n)\n",
    "avalH2, vectH2 = Hotelling(C2,vect2,valor)\n",
    "eigval2,eigvect2 = LA.eig(C2)\n",
    "tabla = pd.DataFrame({\"Aproximado\":[vectH2,avalH2],\"Real\":[eigvect2[:,0],eigval2[0]]})\n",
    "tabla.index = [\"Autovector\",\"Autovalor\"]\n",
    "display(HTML(tabla.to_html()))"
   ]
  },
  {
   "cell_type": "markdown",
   "id": "41f9ed73-2fd8-4260-9960-7a7e46b2ffc0",
   "metadata": {},
   "source": [
    "## Consigna 8"
   ]
  },
  {
   "cell_type": "code",
   "execution_count": null,
   "id": "a45ac85d-64e4-4b40-8d7a-824e16fbb2f5",
   "metadata": {},
   "outputs": [],
   "source": []
  },
  {
   "cell_type": "markdown",
   "id": "65b8bebf",
   "metadata": {},
   "source": [
    "## Consigna 9"
   ]
  },
  {
   "cell_type": "code",
   "execution_count": null,
   "id": "7fcbc0a1",
   "metadata": {},
   "outputs": [],
   "source": [
    "import funcionesTP1.py"
   ]
  },
  {
   "cell_type": "code",
   "execution_count": null,
   "id": "7e858539",
   "metadata": {},
   "outputs": [],
   "source": [
    "H = A @ np.linalg.inv(np.identity(A.shape[0]) - A)\n",
    "\n",
    "def calculoACP(data):\n",
    "    d, n = data.shape\n",
    "    m = np.mean(data.values, axis=1)  # Asegúrate de que m sea un array de numpy\n",
    "\n",
    "    X = data.values - np.tile(m.reshape((len(m), 1)), (1, n))  # Usa data.values para obtener el array de numpy\n",
    "    Mcov = np.dot(X, X.T) / n  # Covariance Matrix\n",
    "    \n",
    "    D, V = np.linalg.eigh(Mcov)\n",
    "    \n",
    "    # Ordenamos los autovalores de mayor a menor\n",
    "    idx = np.argsort(-D)\n",
    "    D = D[idx]\n",
    "    V = V[:, idx]\n",
    "    \n",
    "    return D, V, X, m\n",
    "\n",
    "D, V, X, m = calculoACP(H)\n",
    "\n",
    "# Proyectar los datos en las dos primeras componentes principales\n",
    "X_reducido = X.T @ V[:, :2]  # Transponer X para que las observaciones sean filas\n",
    "\n",
    "# Aplicar K-means para encontrar clusters\n",
    "kmeans = KMeans(n_clusters=3, random_state=42)  # Puedes ajustar el número de clusters\n",
    "clusters = kmeans.fit_predict(X_reducido)\n",
    "\n",
    "# Convertir el resultado a un DataFrame para facilitar la visualización\n",
    "df_clusters = pd.DataFrame(X_reducido, columns=['Componente 1', 'Componente 2'])\n",
    "df_clusters['Cluster'] = clusters\n",
    "\n",
    "# Graficar los resultados\n",
    "plt.figure(figsize=(10, 8))\n",
    "sns.scatterplot(data=df_clusters, x='Componente 1', y='Componente 2', hue='Cluster', palette='viridis', s=100)\n",
    "plt.title('Clusters en el espacio de componentes principales')\n",
    "plt.xlabel('Componente Principal 1')\n",
    "plt.ylabel('Componente Principal 2')\n",
    "plt.legend(title='Cluster')\n",
    "plt.grid(True)\n",
    "plt.show()\n",
    "\n",
    "\n"
   ]
  },
  {
   "cell_type": "code",
   "execution_count": null,
   "id": "160ba008",
   "metadata": {},
   "outputs": [],
   "source": []
  },
  {
   "cell_type": "code",
   "execution_count": null,
   "id": "95343c4f",
   "metadata": {},
   "outputs": [],
   "source": []
  }
 ],
 "metadata": {
  "kernelspec": {
   "display_name": "Python 3 (ipykernel)",
   "language": "python",
   "name": "python3"
  },
  "language_info": {
   "codemirror_mode": {
    "name": "ipython",
    "version": 3
   },
   "file_extension": ".py",
   "mimetype": "text/x-python",
   "name": "python",
   "nbconvert_exporter": "python",
   "pygments_lexer": "ipython3",
   "version": "3.12.4"
  }
 },
 "nbformat": 4,
 "nbformat_minor": 5
}
