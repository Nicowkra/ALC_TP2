{
 "cells": [
  {
   "cell_type": "markdown",
   "id": "5c0cbb93-2880-4750-975d-11cce9f6b12c",
   "metadata": {},
   "source": [
    "# Trabajo Práctico 2 - Matrices Insumo-Producto\n"
   ]
  },
  {
   "cell_type": "markdown",
   "id": "42e274a5-6e2e-44fd-93bc-3425096cda3a",
   "metadata": {},
   "source": [
    "## Imports"
   ]
  },
  {
   "cell_type": "code",
   "execution_count": 10,
   "id": "bf901cec-77d4-4642-8732-e84bece85e68",
   "metadata": {},
   "outputs": [
    {
     "name": "stdout",
     "output_type": "stream",
     "text": [
      "[  0.   1.   2.   3.   4.   5.   6.   7.   8.   9.  10.  11.  12.  13.\n",
      "  14.  15.  16.  17.  18.  19.  20.  21.  22.  23.  24.  25.  26.  27.\n",
      "  28.  29.  30.  31.  32.  33.  34.  35.  36.  37.  38.  39.  40.  41.\n",
      "  42.  43.  44.  45.  46.  47.  48.  49.  50.  51.  52.  53.  54.  55.\n",
      "  56.  57.  58.  59.  60.  61.  62.  63.  64.  65.  66.  67.  68.  69.\n",
      "  70.  71.  72.  73.  74.  75.  76.  77.  78.  79.  80.  81.  82.  83.\n",
      "  84.  85.  86.  87.  88.  89.  90.  91.  92.  93.  94.  95.  96.  97.\n",
      "  98.  99. 100. 101. 102. 103. 104. 105. 106. 107. 108. 109. 110. 111.\n",
      " 112. 113. 114. 115. 116. 117. 118. 119. 120. 121. 122. 123. 124. 125.\n",
      " 126. 127. 128. 129. 130. 131. 132. 133. 134. 135. 136. 137. 138. 139.\n",
      " 140. 141. 142. 143. 144. 145. 146. 147. 148. 149. 150. 151. 152. 153.\n",
      " 154. 155. 156. 157. 158. 159. 160. 161. 162. 163. 164. 165. 166. 167.\n",
      " 168. 169. 170. 171. 172. 173. 174. 175. 176. 177. 178. 179. 180. 181.\n",
      " 182. 183. 184. 185. 186. 187. 188. 189. 190. 191. 192. 193. 194. 195.\n",
      " 196. 197. 198. 199. 200. 201. 202. 203. 204. 205. 206. 207. 208. 209.\n",
      " 210. 211. 212. 213. 214. 215. 216. 217. 218. 219. 220. 221. 222. 223.\n",
      " 224. 225. 226. 227. 228. 229. 230. 231. 232. 233. 234. 235. 236. 237.\n",
      " 238. 239. 240. 241. 242. 243. 244. 245. 246. 247. 248. 249.]\n"
     ]
    }
   ],
   "source": [
    "import numpy as np\n",
    "import pandas as pd\n",
    "from numpy import linalg as LA\n",
    "import scipy\n",
    "import matplotlib.pyplot as plt\n",
    "\n",
    "print(np.linspace(0,249,250))"
   ]
  },
  {
   "cell_type": "markdown",
   "id": "881e9b90",
   "metadata": {},
   "source": [
    "## Consigna 2 - Graficamos los vectores $a_1$ y $a_2$, definidos con un tamaño de 250z"
   ]
  },
  {
   "cell_type": "code",
   "execution_count": 45,
   "id": "b824479e",
   "metadata": {},
   "outputs": [
    {
     "data": {
      "image/png": "[encoded data removed]",
      "text/plain": [
       "<Figure size 640x480 with 1 Axes>"
      ]
     },
     "metadata": {},
     "output_type": "display_data"
    },
    {
     "name": "stdout",
     "output_type": "stream",
     "text": [
      "[1.0388516051733239, 1.0388516051733239, 1.0388516051733239, 1.0388516051733239, 1.0388516051733239, 1.0388516051733239, 1.0388516051733239, 1.0388516051733239, 1.0388516051733239, 1.0388516051733239, 1.0388516051733239, 1.0388516051733239, 1.0388516051733239, 1.0388516051733239, 1.0388516051733239, 1.0388516051733239, 1.0388516051733239, 1.0388516051733239, 1.0388516051733239, 1.0388516051733239, 1.0388516051733239, 1.0388516051733239, 1.0388516051733239, 1.0388516051733239, 1.0388516051733239, 1.0388516051733239, 1.0388516051733239, 1.0388516051733239, 1.0388516051733239, 1.0388516051733239, 1.0388516051733239, 1.0388516051733239, 1.0388516051733239, 1.0388516051733239, 1.0388516051733239, 1.0388516051733239, 1.0388516051733239, 1.0388516051733239, 1.0388516051733239, 1.0388516051733239, 1.0388516051733239, 1.0388516051733239, 1.0388516051733239, 1.0388516051733239, 1.0388516051733239, 1.0388516051733239, 1.0388516051733239, 1.0388516051733239, 1.0388516051733239, 1.0388516051733239, 1.0388516051733239, 1.0388516051733239, 1.0388516051733239, 1.0388516051733239, 1.0388516051733239, 1.0388516051733239, 1.0388516051733239, 1.0388516051733239, 1.0388516051733239, 1.0388516051733239, 1.0388516051733239, 1.0388516051733239, 1.0388516051733239, 1.0388516051733239, 1.0388516051733239, 1.0388516051733239, 1.0388516051733239, 1.0388516051733239, 1.0388516051733239, 1.0388516051733239, 1.0388516051733239, 1.0388516051733239, 1.0388516051733239, 1.0388516051733239, 1.0388516051733239, 1.0388516051733239, 1.0388516051733239, 1.0388516051733239, 1.0388516051733239, 1.0388516051733239, 1.0388516051733239, 1.0388516051733239, 1.0388516051733239, 1.0388516051733239, 1.0388516051733239, 1.0388516051733239, 1.0388516051733239, 1.0388516051733239, 1.0388516051733239, 1.0388516051733239, 1.0388516051733239, 1.0388516051733239, 1.0388516051733239, 1.0388516051733239, 1.0388516051733239, 1.0388516051733239, 1.0388516051733239, 1.0388516051733239, 1.0388516051733239, 1.0388516051733239, 1.0388516051733239, 1.0388516051733239, 1.0388516051733239, 1.0388516051733239, 1.0388516051733239, 1.0388516051733239, 1.0388516051733239, 1.0388516051733239, 1.0388516051733239, 1.0388516051733239, 1.0388516051733239, 1.0388516051733239, 1.0388516051733239, 1.0388516051733239, 1.0388516051733239, 1.0388516051733239, 1.0388516051733239, 1.0388516051733239, 1.0388516051733239, 1.0388516051733239, 1.0388516051733239, 1.0388516051733239, 1.0388516051733239, 1.0388516051733239, 1.0388516051733239, 1.0388516051733239, 1.0388516051733239, 1.0388516051733239, 1.0388516051733239, 1.0388516051733239, 1.0388516051733239, 1.0388516051733239, 1.0388516051733239, 1.0388516051733239, 1.0388516051733239, 1.0388516051733239, 1.0388516051733239, 1.0388516051733239, 1.0388516051733239, 1.0388516051733239, 1.0388516051733239, 1.0388516051733239, 1.0388516051733239, 1.0388516051733239, 1.0388516051733239, 1.0388516051733239, 1.0388516051733239, 1.0388516051733239, 1.0388516051733239, 1.0388516051733239, 1.0388516051733239, 1.0388516051733239, 1.0388516051733239, 1.0388516051733239, 1.0388516051733239, 1.0388516051733239, 1.0388516051733239, 1.0388516051733239, 1.0388516051733239, 1.0388516051733239, 1.0388516051733239, 1.0388516051733239, 1.0388516051733239, 1.0388516051733239, 1.0388516051733239, 1.0388516051733239, 1.0388516051733239, 1.0388516051733239, 1.0388516051733239, 1.0388516051733239, 1.0388516051733239, 1.0388516051733239, 1.0388516051733239, 1.0388516051733239, 1.0388516051733239, 1.0388516051733239, 1.0388516051733239, 1.0388516051733239, 1.0388516051733239, 1.0388516051733239, 1.0388516051733239, 1.0388516051733239, 1.0388516051733239, 1.0388516051733239, 1.0388516051733239, 1.0388516051733239, 1.0388516051733239, 1.0388516051733239, 1.0388516051733239, 1.0388516051733239, 1.0388516051733239, 1.0388516051733239, 1.0388516051733239, 1.0388516051733239, 1.0388516051733239, 1.0388516051733239, 1.0388516051733239, 1.0388516051733239, 1.0388516051733239, 1.0388516051733239, 1.0388516051733239, 1.0388516051733239, 1.0388516051733239, 1.0388516051733239, 1.0388516051733239, 1.0388516051733239, 1.0388516051733239, 1.0388516051733239, 1.0388516051733239, 1.0388516051733239, 1.0388516051733239, 1.0388516051733239, 1.0388516051733239, 1.0388516051733239, 1.0388516051733239, 1.0388516051733239, 1.0388516051733239, 1.0388516051733239, 1.0388516051733239, 1.0388516051733239, 1.0388516051733239, 1.0388516051733239, 1.0388516051733239, 1.0388516051733239, 1.0388516051733239, 1.0388516051733239, 1.0388516051733239, 1.0388516051733239, 1.0388516051733239, 1.0388516051733239, 1.0388516051733239, 1.0388516051733239, 1.0388516051733239, 1.0388516051733239, 1.0388516051733239, 1.0388516051733239, 1.0388516051733239, 1.0388516051733239, 1.0388516051733239, 1.0388516051733239, 1.0388516051733239, 1.0388516051733239, 1.0388516051733239, 1.0388516051733239, 1.0388516051733239, 1.0388516051733239, 1.0388516051733239, 1.0388516051733239, 1.0388516051733239, 1.0388516051733239]\n"
     ]
    }
   ],
   "source": [
    "A1 = np.array([[0.186,0.521,0.014,0.32,0.134],\n",
    "               [0.24,0.073,0.219,0.013,0.327],\n",
    "               [0.098,0.12,0.311,0.302,0.208],\n",
    "               [0.173,0.03,0.133,0.14,0.074],\n",
    "               [0.303,0.256,0.323,0.225,0.257]])\n",
    "A2 = np.array([[0.186,0.521,0.014,0.32,0.134],\n",
    "               [0.24,0.073,0.219,0.013,0.327],\n",
    "               [0.098,0.12,0.311,0.302,0.208],\n",
    "               [0.173,0.03,0.133,0.14,0.074],\n",
    "               [0.003,0.256,0.323,0.225,0.257]])\n",
    "\n",
    "##Vamos a calcular el vector que tiene en cada componente la norma 2 de A elevado al indice i\n",
    "def vectorDeA_n(n, matrizOriginal):\n",
    "    res = []\n",
    "    potenciaDeA = matrizOriginal\n",
    "    for i in range(n):\n",
    "        potenciaDeA = potenciaDeA @ matrizOriginal \n",
    "        norma = scipy.linalg.norm(matrizOriginal, ord = 2)\n",
    "        res.append(norma)\n",
    "    return res\n",
    "\n",
    "##Hacemos el grafico de ambos vectores\n",
    "# Crear la figura y los ejes\n",
    "fig, ax = plt.subplots()\n",
    "# Dibujar puntos\n",
    "ax.scatter(np.linspace(0,249,250),vectorDeA_n(250, A1))\n",
    "ax.scatter(np.linspace(0,249,250),vectorDeA_n(250, A2))\n",
    "\n",
    "# Guardar el gráfico en formato png\n",
    "plt.savefig('diagrama-dispersion.png')\n",
    "# Mostrar el gráfico\n",
    "plt.show()\n",
    "\n",
    "print(vectorDeA_n(250,A1))"
   ]
  },
  {
   "cell_type": "markdown",
   "id": "ffe006c4-bd7b-4465-ba1e-8c9f994b9f37",
   "metadata": {},
   "source": [
    "## Consigna 3"
   ]
  },
  {
   "cell_type": "code",
   "execution_count": 27,
   "id": "9e4ffc63-5a06-4c36-8c56-25ad67cb8aa2",
   "metadata": {},
   "outputs": [
    {
     "data": {
      "text/html": [
       "<div>\n",
       "<style scoped>\n",
       "    .dataframe tbody tr th:only-of-type {\n",
       "        vertical-align: middle;\n",
       "    }\n",
       "\n",
       "    .dataframe tbody tr th {\n",
       "        vertical-align: top;\n",
       "    }\n",
       "\n",
       "    .dataframe thead th {\n",
       "        text-align: right;\n",
       "    }\n",
       "</style>\n",
       "<table border=\"1\" class=\"dataframe\">\n",
       "  <thead>\n",
       "    <tr style=\"text-align: right;\">\n",
       "      <th></th>\n",
       "      <th>Promedio</th>\n",
       "      <th>Desvio Estandar</th>\n",
       "    </tr>\n",
       "  </thead>\n",
       "  <tbody>\n",
       "    <tr>\n",
       "      <th>A1</th>\n",
       "      <td>1.000000</td>\n",
       "      <td>2.087692e-16</td>\n",
       "    </tr>\n",
       "    <tr>\n",
       "      <th>A2</th>\n",
       "      <td>0.927651</td>\n",
       "      <td>2.194762e-16</td>\n",
       "    </tr>\n",
       "  </tbody>\n",
       "</table>\n",
       "</div>"
      ],
      "text/plain": [
       "    Promedio  Desvio Estandar\n",
       "A1  1.000000     2.087692e-16\n",
       "A2  0.927651     2.194762e-16"
      ]
     },
     "execution_count": 27,
     "metadata": {},
     "output_type": "execute_result"
    }
   ],
   "source": [
    "A1 = np.array([[0.186,0.521,0.014,0.32,0.134],[0.24,0.073,0.219,0.013,0.327],[0.098,0.12,0.311,0.302,0.208],[0.173,0.03,0.133,0.14,0.074],[0.303,0.256,0.323,0.225,0.257]])\n",
    "A2 = np.array([[0.186,0.521,0.014,0.32,0.134],[0.24,0.073,0.219,0.013,0.327],[0.098,0.12,0.311,0.302,0.208],[0.173,0.03,0.133,0.14,0.074],[0.003,0.256,0.323,0.225,0.257]])\n",
    "\n",
    "\n",
    "def vectorEstrella(vector):\n",
    "    # Conjugar y trasponer al mismo tiempo\n",
    "    vector_hermitiano = np.conjugate(vector.T)\n",
    "    return vector_hermitiano\n",
    "\n",
    "\n",
    "def metodoPotencia(A, v, k):\n",
    "\n",
    "    # Calculamos autovector asociado al autovalor de mayor modulo\n",
    "    for i in range(k):\n",
    "        v = A @ v\n",
    "        # Lo normalizamos para que no siga creciendo y converja\n",
    "        v = v / np.linalg.norm(v)\n",
    "\n",
    "    # Calculamos autovalor de mayor modulo\n",
    "    vEstrella = vectorEstrella(v)\n",
    "    aval = (vEstrella @ A @ v) / (vEstrella @ v)\n",
    "\n",
    "    return aval,v\n",
    "\n",
    "def monteCarlo(A):\n",
    "    vectores = []\n",
    "    DE = 0\n",
    "    for i in range(0,250,1):\n",
    "        vect = np.random.randint(0,1000,size = A.shape[0])\n",
    "        res,avect = metodoPotencia(A,vect,250)\n",
    "        vectores.append(res)\n",
    "    promedio = np.mean(vectores)\n",
    "    \n",
    "    for j in vectores:\n",
    "        a = np.sqrt((j-np.mean(vectores))**2)\n",
    "        DE = DE + (pow(a,2))\n",
    "    desvioEstandar = np.sqrt(DE/len(vectores))\n",
    "    return promedio, desvioEstandar\n",
    "\n",
    "\n",
    "prom_a1 ,DE_a1 = monteCarlo(A1) \n",
    "prom_a2 ,DE_a2 = monteCarlo(A2) \n",
    "tabla = pd.DataFrame({\"Promedio\":[prom_a1,prom_a2],\"Desvio Estandar\":[DE_a1,DE_a2]})\n",
    "tabla.index = [\"A1\",\"A2\"]\n",
    "tabla"
   ]
  },
  {
   "cell_type": "markdown",
   "id": "c1791f2e",
   "metadata": {},
   "source": [
    "## Consigna 4 "
   ]
  },
  {
   "cell_type": "code",
   "execution_count": 48,
   "id": "26024428",
   "metadata": {},
   "outputs": [
    {
     "data": {
      "text/plain": [
       "[3.341811228501184e+16,\n",
       " 3.341811228501184e+16,\n",
       " 3.341811228501184e+16,\n",
       " 3.341811228501184e+16,\n",
       " 3.341811228501184e+16,\n",
       " 3.341811228501184e+16,\n",
       " 3.341811228501184e+16,\n",
       " 3.341811228501184e+16,\n",
       " 3.341811228501184e+16,\n",
       " 3.341811228501184e+16]"
      ]
     },
     "execution_count": 48,
     "metadata": {},
     "output_type": "execute_result"
    }
   ],
   "source": [
    "matrizConsigna4 = np.linalg.inv(np.identity(A1.shape[0]) - A1)\n",
    "\n",
    "vectorDeA_n(10,matrizConsigna4)"
   ]
  },
  {
   "cell_type": "markdown",
   "id": "accc0aa1-ed10-4c3d-9a3b-ab276f54ef11",
   "metadata": {},
   "source": [
    "## Consigna 5"
   ]
  },
  {
   "cell_type": "markdown",
   "id": "6747399d-97bf-4a06-a9e2-c9ec39909177",
   "metadata": {},
   "source": [
    "Creo $ A^{ss} y A^{rr} $ como en el TP1"
   ]
  },
  {
   "cell_type": "code",
   "execution_count": 29,
   "id": "b251ee5a-bf9f-400c-8f25-814e92df5c31",
   "metadata": {},
   "outputs": [
    {
     "data": {
      "text/html": [
       "<div>\n",
       "<style scoped>\n",
       "    .dataframe tbody tr th:only-of-type {\n",
       "        vertical-align: middle;\n",
       "    }\n",
       "\n",
       "    .dataframe tbody tr th {\n",
       "        vertical-align: top;\n",
       "    }\n",
       "\n",
       "    .dataframe thead th {\n",
       "        text-align: right;\n",
       "    }\n",
       "</style>\n",
       "<table border=\"1\" class=\"dataframe\">\n",
       "  <thead>\n",
       "    <tr style=\"text-align: right;\">\n",
       "      <th></th>\n",
       "      <th>Pry</th>\n",
       "      <th>Nic</th>\n",
       "    </tr>\n",
       "  </thead>\n",
       "  <tbody>\n",
       "    <tr>\n",
       "      <th>Autovalor</th>\n",
       "      <td>1671.915673</td>\n",
       "      <td>441.458846</td>\n",
       "    </tr>\n",
       "  </tbody>\n",
       "</table>\n",
       "</div>"
      ],
      "text/plain": [
       "                   Pry         Nic\n",
       "Autovalor  1671.915673  441.458846"
      ]
     },
     "execution_count": 29,
     "metadata": {},
     "output_type": "execute_result"
    }
   ],
   "source": [
    "matriz = pd.read_excel(\"matriz.xlsx\", sheet_name =\"LAC_IOT_2011\",)\n",
    "Nic_col = []    \n",
    "Pry_col = []\n",
    "for i in range(1,41): #Crea la lista de columnas a filtrar\n",
    "    Nic_col.append('NICs'+str(i))\n",
    "    Pry_col.append('PRYs'+str(i))\n",
    "    \n",
    "Pry = matriz[matriz[\"Country_iso3\"] == \"PRY\"] # Crea la tabla con filas de PRY\n",
    "Nic = matriz[matriz[\"Country_iso3\"] == \"NIC\"] # Crea la tabla con filas de NIC\n",
    "# Crea matrices intra-regionales\n",
    "Pry_int= Pry.loc[:,Pry_col] \n",
    "Nic_int = Nic.loc[:,Nic_col] \n",
    "\n",
    "vect_Pry = np.random.randint(0,1000,size = Pry_int.shape[0]) #Creo vector aleatorio\n",
    "aval_Pry,avect_Pry = metodoPotencia(Pry_int.to_numpy(),vect_Pry,250) #Uso metodo de potencia\n",
    "\n",
    "vect_Nic = np.random.randint(0,1000,size = Nic_int.shape[0])\n",
    "aval_Nic,avect_Nic = metodoPotencia(Nic_int.to_numpy(),vect_Nic,250)\n",
    "\n",
    "tabla = pd.DataFrame({\"Pry\":[aval_Pry],\"Nic\":[aval_Nic]})\n",
    "tabla.index = [\"Autovalor\"]\n",
    "tabla"
   ]
  },
  {
   "cell_type": "markdown",
   "id": "cb38a87a-0bf5-4070-81dc-139fba2cb660",
   "metadata": {},
   "source": [
    "## Consigna 7"
   ]
  },
  {
   "cell_type": "code",
   "execution_count": 34,
   "id": "dc3795eb-4bd7-419e-8ca0-ab2b76911d8c",
   "metadata": {},
   "outputs": [],
   "source": [
    "n = Pry_int.shape[0]\n",
    "Id = np.identity(n)\n",
    "e = np.ones(n)\n",
    "En = Id - 1/n * (np.atleast_2d(e).T @ np.atleast_2d(e))\n",
    "C = ((En @ Pry_int.to_numpy()).T @ (En @ Pry_int.to_numpy()))/(40-1) "
   ]
  },
  {
   "cell_type": "markdown",
   "id": "41f9ed73-2fd8-4260-9960-7a7e46b2ffc0",
   "metadata": {},
   "source": [
    "## Consigna 8"
   ]
  },
  {
   "cell_type": "code",
   "execution_count": null,
   "id": "a45ac85d-64e4-4b40-8d7a-824e16fbb2f5",
   "metadata": {},
   "outputs": [],
   "source": []
  }
 ],
 "metadata": {
  "kernelspec": {
   "display_name": "Python 3 (ipykernel)",
   "language": "python",
   "name": "python3"
  },
  "language_info": {
   "codemirror_mode": {
    "name": "ipython",
    "version": 3
   },
   "file_extension": ".py",
   "mimetype": "text/x-python",
   "name": "python",
   "nbconvert_exporter": "python",
   "pygments_lexer": "ipython3",
   "version": "3.9.13"
  }
 },
 "nbformat": 4,
 "nbformat_minor": 5
}
